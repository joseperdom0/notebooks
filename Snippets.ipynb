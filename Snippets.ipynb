{
  "nbformat": 4,
  "nbformat_minor": 0,
  "metadata": {
    "colab": {
      "name": "Snippets.ipynb",
      "provenance": [],
      "collapsed_sections": [],
      "authorship_tag": "ABX9TyPVobaFjcwUTVQuxOa/1sGg",
      "include_colab_link": true
    },
    "kernelspec": {
      "name": "python3",
      "display_name": "Python 3"
    },
    "language_info": {
      "name": "python"
    }
  },
  "cells": [
    {
      "cell_type": "markdown",
      "metadata": {
        "id": "view-in-github",
        "colab_type": "text"
      },
      "source": [
        "<a href=\"https://colab.research.google.com/github/joseperdom0/notebooks/blob/main/Snippets.ipynb\" target=\"_parent\"><img src=\"https://colab.research.google.com/assets/colab-badge.svg\" alt=\"Open In Colab\"/></a>"
      ]
    },
    {
      "cell_type": "markdown",
      "source": [
        "# Chaining boolean operators"
      ],
      "metadata": {
        "id": "yf75mXLyRcs_"
      }
    },
    {
      "cell_type": "code",
      "source": [
        "x = -5\n",
        "y = 10\n",
        "z = 12\n",
        "\n",
        "result = x < y and y <= z  # True"
      ],
      "metadata": {
        "id": "c9fBlCvjRfge"
      },
      "execution_count": null,
      "outputs": []
    },
    {
      "cell_type": "markdown",
      "source": [
        "In Python, there is a fancier way to write complex comparisons. It is called chaining. For example, x < y <= z is almost equivalent to the expression you saw in the last example. The difference is that y is evaluated only once.\n"
      ],
      "metadata": {
        "id": "tIPuxAySRq0y"
      }
    },
    {
      "cell_type": "code",
      "source": [
        "result = 10 < (100 * 100) <= 10000  # True, the multiplication is evaluated once"
      ],
      "metadata": {
        "id": "Sa0WH-aJRwwK"
      },
      "execution_count": null,
      "outputs": []
    },
    {
      "cell_type": "markdown",
      "source": [
        "Please pay attention to the fact that tools for code quality often recommend chaining comparisons instead of joining them. "
      ],
      "metadata": {
        "id": "m8GvWjiYR3Ck"
      }
    }
  ]
}